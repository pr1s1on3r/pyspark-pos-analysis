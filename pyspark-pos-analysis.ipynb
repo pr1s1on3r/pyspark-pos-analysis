{
 "cells": [
  {
   "cell_type": "markdown",
   "id": "552b697b-1878-40ba-aeeb-969557e0e143",
   "metadata": {},
   "source": [
    "# PySpark Part of Speech (POS) analysis\n",
    "Text taken from [Reuters](https://www.reuters.com/business/finance/banks-beware-outsiders-are-cracking-code-finance-2021-09-17/)."
   ]
  },
  {
   "cell_type": "code",
   "execution_count": 1,
   "id": "609fe96c",
   "metadata": {},
   "outputs": [],
   "source": [
    "import findspark\n",
    "findspark.init()"
   ]
  },
  {
   "cell_type": "code",
   "execution_count": 2,
   "id": "7cd1ede6-d16a-4a00-bd87-1f62a8c5f149",
   "metadata": {},
   "outputs": [],
   "source": [
    "import nltk\n",
    "from pyspark import SparkContext"
   ]
  },
  {
   "cell_type": "code",
   "execution_count": 3,
   "id": "46c21e6e-08f3-4755-b0d3-2caa83441d6c",
   "metadata": {},
   "outputs": [
    {
     "name": "stderr",
     "output_type": "stream",
     "text": [
      "[nltk_data] Downloading package punkt to /root/nltk_data...\n",
      "[nltk_data]   Package punkt is already up-to-date!\n",
      "[nltk_data] Downloading package averaged_perceptron_tagger to\n",
      "[nltk_data]     /root/nltk_data...\n",
      "[nltk_data]   Package averaged_perceptron_tagger is already up-to-\n",
      "[nltk_data]       date!\n"
     ]
    },
    {
     "data": {
      "text/plain": [
       "True"
      ]
     },
     "execution_count": 3,
     "metadata": {},
     "output_type": "execute_result"
    }
   ],
   "source": [
    "nltk.download(\"punkt\")\n",
    "nltk.download(\"averaged_perceptron_tagger\")"
   ]
  },
  {
   "cell_type": "code",
   "execution_count": 4,
   "id": "23067b1b-24a8-4e92-8998-04aabe98c1b7",
   "metadata": {},
   "outputs": [],
   "source": [
    "sc = SparkContext(\"spark://dankpad:7077\", appName = \"pyspark-pos-analysis-astagg\")"
   ]
  },
  {
   "cell_type": "code",
   "execution_count": 5,
   "id": "d3867cc9-1200-454b-b808-46ff63273be8",
   "metadata": {},
   "outputs": [],
   "source": [
    "# Loading a text file\n",
    "rdd_reuters = sc.textFile(\"./data/reuters.txt\")"
   ]
  },
  {
   "cell_type": "code",
   "execution_count": 6,
   "id": "c010db1d-f71e-4a8d-992c-076d7e16b777",
   "metadata": {},
   "outputs": [
    {
     "data": {
      "text/plain": [
       "87"
      ]
     },
     "execution_count": 6,
     "metadata": {},
     "output_type": "execute_result"
    }
   ],
   "source": [
    "rdd_reuters.count()"
   ]
  },
  {
   "cell_type": "code",
   "execution_count": 28,
   "id": "f32a7076",
   "metadata": {},
   "outputs": [],
   "source": [
    "map_count = {}\n",
    "for line in rdd_reuters.collect():\n",
    "    line_tokens = nltk.word_tokenize(line)\n",
    "    tags = nltk.pos_tag(line_tokens)\n",
    "    for (_, wtype) in tags:\n",
    "        if wtype in map_count:\n",
    "            map_count[wtype] += 1\n",
    "        else:\n",
    "            map_count[wtype] = 0"
   ]
  },
  {
   "cell_type": "code",
   "execution_count": 29,
   "id": "b8ba3430-cb46-49a0-985a-77baa8be1630",
   "metadata": {},
   "outputs": [],
   "source": [
    "wtype_translate = {\n",
    "    'CC': 'coordinating conjunction',\n",
    "    'CD': 'cardinal digit',\n",
    "    'DT': 'determiner',\n",
    "    'EX': 'existential there (like: “there is” … think of it like “there exists”)',\n",
    "    'FW': 'foreign word',\n",
    "    'IN': 'preposition/subordinating conjunction',\n",
    "    'JJ': 'adjective ‘big’',\n",
    "    'JJR': 'adjective, comparative ‘bigger’',\n",
    "    'JJS': 'adjective, superlative ‘biggest’',\n",
    "    'LS': 'list marker 1',\n",
    "    'MD': 'modal could, will',\n",
    "    'NN': 'noun, singular ‘desk’',\n",
    "    'NNS': 'noun plural ‘desks’',\n",
    "    'NNP':'proper noun, singular ‘Harrison’',\n",
    "    'NNPS': 'proper noun, plural ‘Americans’',\n",
    "    'PDT': 'predeterminer \\'all the kids\\'',\n",
    "    'POS': 'possessive ending parent\\'s',\n",
    "    'PRP': 'personal pronoun I, he, she',\n",
    "    'PRP$': 'possessive pronoun my, his, hers',\n",
    "    'RB': 'adverb very, silently',\n",
    "    'RBR': 'adverb, comparative better',\n",
    "    'RBS': 'adverb, superlative best',\n",
    "    'RP': 'particle give up',\n",
    "    'TO': 'to go ‘to’ the store',\n",
    "    'UH': 'interjection, errrrrrrrm',\n",
    "    'VB': 'verb, base form take',\n",
    "    'VBD': 'verb, past tense took',\n",
    "    'VBG': 'verb, gerund/present participle taking',\n",
    "    'VBN': 'verb, past participle taken',\n",
    "    'VBP': 'verb, sing. present, non-3d take',\n",
    "    'VBZ': 'verb, 3rd person sing. present takes',\n",
    "    'WDT': 'wh-determiner which',\n",
    "    'WP': 'wh-pronoun who, what',\n",
    "    'WP$': 'possessive wh-pronoun whose',\n",
    "    'WRB': 'wh-abverb where, when',\n",
    "}"
   ]
  },
  {
   "cell_type": "code",
   "execution_count": 42,
   "id": "9f743092-0b3f-49b8-a972-d6f5cb162038",
   "metadata": {},
   "outputs": [
    {
     "name": "stdout",
     "output_type": "stream",
     "text": [
      "En el texto hay:\n",
      "125 noun plural ‘desks’\n",
      "167 noun, singular ‘desk’\n",
      "126 proper noun, singular ‘Harrison’\n",
      "44 coordinating conjunction\n",
      "40 verb, sing. present, non-3d take\n",
      "27 verb, gerund/present participle taking\n",
      "81 determiner\n",
      "142 preposition/subordinating conjunction\n",
      "34 cardinal digit\n",
      "0 proper noun, plural ‘Americans’\n",
      "18 modal could, will\n",
      "60 verb, base form take\n",
      "41 personal pronoun I, he, she\n",
      "50 adverb very, silently\n",
      "87 adjective ‘big’\n",
      "41 to go ‘to’ the store\n",
      "6 particle give up\n",
      "25 verb, past participle taken\n",
      "33 verb, past tense took\n",
      "36 verb, 3rd person sing. present takes\n",
      "7 wh-abverb where, when\n",
      "12 possessive pronoun my, his, hers\n",
      "2 adjective, superlative ‘biggest’\n",
      "7 wh-determiner which\n",
      "0 predeterminer 'all the kids'\n",
      "0 wh-pronoun who, what\n",
      "9 possessive ending parent's\n",
      "4 adjective, comparative ‘bigger’\n",
      "0 adverb, superlative best\n",
      "0 existential there (like: “there is” … think of it like “there exists”)\n",
      "0 adverb, comparative better\n"
     ]
    }
   ],
   "source": [
    "print('En el texto hay:')\n",
    "for k, v in map_count.items():\n",
    "    if k in wtype_translate:\n",
    "        word_type = wtype_translate[k]\n",
    "    else:\n",
    "        continue\n",
    "\n",
    "    print(f'{v} {word_type}')"
   ]
  },
  {
   "cell_type": "code",
   "execution_count": null,
   "id": "77987c97-e300-47df-b79e-9b41468a085f",
   "metadata": {},
   "outputs": [],
   "source": []
  }
 ],
 "metadata": {
  "kernelspec": {
   "display_name": "Python 3",
   "language": "python",
   "name": "python3"
  },
  "language_info": {
   "codemirror_mode": {
    "name": "ipython",
    "version": 3
   },
   "file_extension": ".py",
   "mimetype": "text/x-python",
   "name": "python",
   "nbconvert_exporter": "python",
   "pygments_lexer": "ipython3",
   "version": "3.8.8"
  }
 },
 "nbformat": 4,
 "nbformat_minor": 5
}
